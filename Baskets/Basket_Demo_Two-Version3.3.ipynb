{
 "cells": [
  {
   "cell_type": "code",
   "execution_count": 1,
   "metadata": {},
   "outputs": [
    {
     "data": {
      "text/html": [
       "<script>\n",
       "code_show=true; \n",
       "function code_toggle() {\n",
       " if (code_show){\n",
       " $('div.input').hide();\n",
       " } else {\n",
       " $('div.input').show();\n",
       " }\n",
       " code_show = !code_show\n",
       "} \n",
       "$( document ).ready(code_toggle);\n",
       "</script>\n",
       "The raw code for this IPython notebook is by default hidden for easier reading.\n",
       "To toggle on/off the raw code, click <a href=\"javascript:code_toggle()\">here</a>."
      ],
      "text/plain": [
       "<IPython.core.display.HTML object>"
      ]
     },
     "execution_count": 1,
     "metadata": {},
     "output_type": "execute_result"
    }
   ],
   "source": [
    "from IPython.display import HTML\n",
    "\n",
    "HTML('''<script>\n",
    "code_show=true; \n",
    "function code_toggle() {\n",
    " if (code_show){\n",
    " $('div.input').hide();\n",
    " } else {\n",
    " $('div.input').show();\n",
    " }\n",
    " code_show = !code_show\n",
    "} \n",
    "$( document ).ready(code_toggle);\n",
    "</script>\n",
    "The raw code for this IPython notebook is by default hidden for easier reading.\n",
    "To toggle on/off the raw code, click <a href=\"javascript:code_toggle()\">here</a>.''')\n"
   ]
  },
  {
   "cell_type": "code",
   "execution_count": 2,
   "metadata": {},
   "outputs": [],
   "source": [
    "%matplotlib notebook"
   ]
  },
  {
   "cell_type": "code",
   "execution_count": 3,
   "metadata": {},
   "outputs": [
    {
     "data": {
      "text/html": [
       "<style>\n",
       ".output_wrapper button.btn.btn-default,\n",
       ".output_wrapper .ui-dialog-titlebar {\n",
       "  display: none;\n",
       "}\n",
       "</style>"
      ],
      "text/plain": [
       "<IPython.core.display.HTML object>"
      ]
     },
     "metadata": {},
     "output_type": "display_data"
    }
   ],
   "source": [
    "\n",
    "\n",
    "%%html\n",
    "<style>\n",
    ".output_wrapper button.btn.btn-default,\n",
    ".output_wrapper .ui-dialog-titlebar {\n",
    "  display: none;\n",
    "}\n",
    "</style>"
   ]
  },
  {
   "cell_type": "markdown",
   "metadata": {},
   "source": [
    "Authors: Howell Tan, Jenifer Pham & Laura Gutierrez Funderburk\n",
    "Supervisor: Dr. Cedric Chauve\n",
    "Last modified on: June 7  2018"
   ]
  },
  {
   "cell_type": "markdown",
   "metadata": {},
   "source": [
    "<h1 align='center'>Tl'amin Baskets Demo</h1>\n",
    "\n",
    "<h3>Introduction</h3>\n",
    "\n",
    "Why weaving is important for indigenous communities. Historical background and importance of weaving across generations. \n",
    "\n",
    "In this notebook you will have an opportunity to explore existing Tl'amin patterns, to toggle with different colour palettes and to preview a 3D model of a basket. \n",
    "\n",
    "<h3>Symmetries of Geometric Figures</h3>\n",
    "\n",
    "**Definition: Geometric figure**\n",
    "\n",
    "Intuitively, a geometric figure is a collection of points and lines in space. From this definition, squares, triangles, polygons, cubes and other shapes determined by points and lines on a two or three dimensional space are all geometric figures. \n",
    "\n",
    "We can then think of a basket as a 3D geometric figure and the patterns in each \"face\" as a 2D geometric figure.\n",
    "\n",
    "**Definition: Symmetry of a Geometric Figure**\n",
    "\n",
    "Consider any geometric figure. Whatever changes we can apply to the figure that leave it unchanged denotes a symmetry. \n",
    "\n",
    "For example, take a square. We can rotate, resize and reflect the square and it remains the same from the viewer's perspective. Rotation, reflection and resizing are square's symmetries.\n",
    "\n",
    "<h3>Tl'amin Baskets & Mathematics</h3>\n",
    "\n",
    "Tl'amin patterns are geometric figures that can be rotated, reflected and resized on a plane. Each plane corresponds to a 'face' within the basket. Notice how the basket itself is a 3D geometric figure that we can rotate and resize!\n"
   ]
  },
  {
   "cell_type": "code",
   "execution_count": 4,
   "metadata": {},
   "outputs": [
    {
     "data": {
      "text/html": [
       "\n",
       "<style>\n",
       "\n",
       "\n",
       "#div2 {\n",
       "    float: left;\n",
       "    width: 430px;\n",
       "    height: 440px;\n",
       "    margin: 10px;\n",
       "    padding: 10px;\n",
       "    border: 1px solid white;\n",
       "    border-radius: 25px;\n",
       "    background-color:#d5a967;\n",
       "}\n",
       "#div1 {\n",
       "    float: left;\n",
       "    width: 100px;\n",
       "    height: 100px;\n",
       "    margin: 10px;\n",
       "    padding: 10px;\n",
       "    border: 1px solid white;\n",
       "    border-radius: 25px;\n",
       "    background-color:#d5a967;\n",
       "}\n",
       "\n",
       "\n",
       "#Myul {\n",
       "    float: bottom;\n",
       "    list-style-type: none;\n",
       "    margin: 0;\n",
       "    padding: 0;\n",
       "    width: 200px;\n",
       "    background-color: #f1f1f1;\n",
       "}\n",
       "\n",
       "/* Buttons! */\n",
       "\n",
       "#mybutton a:link,visited {\n",
       "    text-decoration: none;\n",
       "}\n",
       "\n",
       "#mybutton a:hover {\n",
       "    text-decoration: none;\n",
       "}\n",
       "\n",
       "</style>\n",
       "\n",
       "\n",
       "<script>\n",
       "function allowDrop(ev) {\n",
       "    ev.preventDefault();\n",
       "}\n",
       "\n",
       "function drag(ev) {\n",
       "    ev.dataTransfer.setData(\"text\", ev.target.id);\n",
       "}\n",
       "\n",
       "function drop(ev) {\n",
       "    ev.preventDefault();\n",
       "    var data = ev.dataTransfer.getData(\"text\");\n",
       "    ev.target.appendChild(document.getElementById(data));\n",
       "}\n",
       "\n",
       "function showImage(){\n",
       "        document.getElementById('loadingImage').style.visibility=\"visible\";\n",
       "    }\n",
       "\n",
       "\n",
       "</script>\n",
       "\n",
       "\n",
       "<body> \n",
       "<div id=\"Home\">\n",
       "<h2>Tl'amin Patterns' Symmetries</h2>\n",
       "<p>Below you will find different Tl'amin patterns. With the help of your mouse, drag the pattern from the small box onto the large box to amplify and see the pattern in more detail.</p>\n",
       "</div>\n",
       "<div id=\"div1\" ondrop=\"drop(event)\" ondragover=\"allowDrop(event)\">\n",
       "      <img src=\"./images/square_rec.png\" draggable=\"true\" ondragstart=\"drag(event)\" id=\"drag1\" width=\"400\" height=\"100\">\n",
       "</div>\n",
       "\n",
       "<div id=\"div1\" ondrop=\"drop(event)\" ondragover=\"allowDrop(event)\">\n",
       "      <img src=\"./images/SAVE_HOR.png\" draggable=\"true\" ondragstart=\"drag(event)\" id=\"drag2\" width=\"1200\" height=\"2200\">\n",
       "    \n",
       "</div>\n",
       "\n",
       "<div id=\"div1\" ondrop=\"drop(event)\" ondragover=\"allowDrop(event)\">\n",
       "      <img src=\"./images/jens_ver.png\" draggable=\"true\" ondragstart=\"drag(event)\" id=\"drag3\" width=\"900\" height=\"100\">\n",
       "    \n",
       "</div>\n",
       "\n",
       "\n",
       "\n",
       "<div id=\"div2\" ondrop=\"drop(event)\" ondragover=\"allowDrop(event)\">Expanded Pattern</div>\n",
       "\n",
       "\n",
       "</body>"
      ],
      "text/plain": [
       "<IPython.core.display.HTML object>"
      ]
     },
     "metadata": {},
     "output_type": "display_data"
    }
   ],
   "source": [
    "%%html \n",
    "\n",
    "<style>\n",
    "\n",
    "\n",
    "#div2 {\n",
    "    float: left;\n",
    "    width: 430px;\n",
    "    height: 440px;\n",
    "    margin: 10px;\n",
    "    padding: 10px;\n",
    "    border: 1px solid white;\n",
    "    border-radius: 25px;\n",
    "    background-color:#d5a967;\n",
    "}\n",
    "#div1 {\n",
    "    float: left;\n",
    "    width: 100px;\n",
    "    height: 100px;\n",
    "    margin: 10px;\n",
    "    padding: 10px;\n",
    "    border: 1px solid white;\n",
    "    border-radius: 25px;\n",
    "    background-color:#d5a967;\n",
    "}\n",
    "\n",
    "\n",
    "#Myul {\n",
    "    float: bottom;\n",
    "    list-style-type: none;\n",
    "    margin: 0;\n",
    "    padding: 0;\n",
    "    width: 200px;\n",
    "    background-color: #f1f1f1;\n",
    "}\n",
    "\n",
    "/* Buttons! */\n",
    "\n",
    "#mybutton a:link,visited {\n",
    "    text-decoration: none;\n",
    "}\n",
    "\n",
    "#mybutton a:hover {\n",
    "    text-decoration: none;\n",
    "}\n",
    "\n",
    "</style>\n",
    "\n",
    "\n",
    "<script>\n",
    "function allowDrop(ev) {\n",
    "    ev.preventDefault();\n",
    "}\n",
    "\n",
    "function drag(ev) {\n",
    "    ev.dataTransfer.setData(\"text\", ev.target.id);\n",
    "}\n",
    "\n",
    "function drop(ev) {\n",
    "    ev.preventDefault();\n",
    "    var data = ev.dataTransfer.getData(\"text\");\n",
    "    ev.target.appendChild(document.getElementById(data));\n",
    "}\n",
    "\n",
    "function showImage(){\n",
    "        document.getElementById('loadingImage').style.visibility=\"visible\";\n",
    "    }\n",
    "\n",
    "\n",
    "</script>\n",
    "\n",
    "\n",
    "<body> \n",
    "<div id=\"Home\">\n",
    "<h2>Tl'amin Patterns' Symmetries</h2>\n",
    "<p>Below you will find different Tl'amin patterns. With the help of your mouse, drag the pattern from the small box onto the large box to amplify and see the pattern in more detail.</p>\n",
    "</div>\n",
    "<div id=\"div1\" ondrop=\"drop(event)\" ondragover=\"allowDrop(event)\">\n",
    "      <img src=\"./images/square_rec.png\" draggable=\"true\" ondragstart=\"drag(event)\" id=\"drag1\" width=\"400\" height=\"100\">\n",
    "</div>\n",
    "\n",
    "<div id=\"div1\" ondrop=\"drop(event)\" ondragover=\"allowDrop(event)\">\n",
    "      <img src=\"./images/SAVE_HOR.png\" draggable=\"true\" ondragstart=\"drag(event)\" id=\"drag2\" width=\"1200\" height=\"2200\">\n",
    "    \n",
    "</div>\n",
    "\n",
    "<div id=\"div1\" ondrop=\"drop(event)\" ondragover=\"allowDrop(event)\">\n",
    "      <img src=\"./images/jens_ver.png\" draggable=\"true\" ondragstart=\"drag(event)\" id=\"drag3\" width=\"900\" height=\"100\">\n",
    "    \n",
    "</div>\n",
    "\n",
    "\n",
    "\n",
    "<div id=\"div2\" ondrop=\"drop(event)\" ondragover=\"allowDrop(event)\">Expanded Pattern</div>\n",
    "\n",
    "\n",
    "</body>"
   ]
  },
  {
   "cell_type": "markdown",
   "metadata": {},
   "source": [
    "<h3>Discussion Area</h3>\n",
    "\n",
    "After you take a look at the patterns, discuss with a partner what you observe."
   ]
  },
  {
   "cell_type": "code",
   "execution_count": 5,
   "metadata": {},
   "outputs": [
    {
     "name": "stdout",
     "output_type": "stream",
     "text": [
      "What geometric figures do you identify in the patterns above?\n"
     ]
    },
    {
     "data": {
      "application/vnd.jupyter.widget-view+json": {
       "model_id": "ad2acf2e90c94331a41d6697c2b1c9e5",
       "version_major": 2,
       "version_minor": 0
      },
      "text/html": [
       "<p>Failed to display Jupyter Widget of type <code>Dropdown</code>.</p>\n",
       "<p>\n",
       "  If you're reading this message in the Jupyter Notebook or JupyterLab Notebook, it may mean\n",
       "  that the widgets JavaScript is still loading. If this message persists, it\n",
       "  likely means that the widgets JavaScript library is either not installed or\n",
       "  not enabled. See the <a href=\"https://ipywidgets.readthedocs.io/en/stable/user_install.html\">Jupyter\n",
       "  Widgets Documentation</a> for setup instructions.\n",
       "</p>\n",
       "<p>\n",
       "  If you're reading this message in another frontend (for example, a static\n",
       "  rendering on GitHub or <a href=\"https://nbviewer.jupyter.org/\">NBViewer</a>),\n",
       "  it may mean that your frontend doesn't currently support widgets.\n",
       "</p>\n"
      ],
      "text/plain": [
       "Dropdown(description='Number:', options=('select option(s)', 'triangle', 'rectangle', 'square', 'lines', 'all of the above'), value='select option(s)')"
      ]
     },
     "metadata": {},
     "output_type": "display_data"
    }
   ],
   "source": [
    "import ipywidgets\n",
    "from ipywidgets import widgets\n",
    "\n",
    "print(\"What geometric figures do you identify in the patterns above?\")\n",
    "\n",
    "widgets.Dropdown(\n",
    "    options=['select option(s)','triangle','rectangle','square','lines','all of the above'],\n",
    "    value='select option(s)',\n",
    "    description='Number:',\n",
    "    disabled=False,\n",
    ")"
   ]
  },
  {
   "cell_type": "code",
   "execution_count": 6,
   "metadata": {},
   "outputs": [
    {
     "name": "stdout",
     "output_type": "stream",
     "text": [
      "What symmetries can you identify in the patterns\n"
     ]
    },
    {
     "data": {
      "application/vnd.jupyter.widget-view+json": {
       "model_id": "59711b016a8c4547a11549a5870db415",
       "version_major": 2,
       "version_minor": 0
      },
      "text/html": [
       "<p>Failed to display Jupyter Widget of type <code>Dropdown</code>.</p>\n",
       "<p>\n",
       "  If you're reading this message in the Jupyter Notebook or JupyterLab Notebook, it may mean\n",
       "  that the widgets JavaScript is still loading. If this message persists, it\n",
       "  likely means that the widgets JavaScript library is either not installed or\n",
       "  not enabled. See the <a href=\"https://ipywidgets.readthedocs.io/en/stable/user_install.html\">Jupyter\n",
       "  Widgets Documentation</a> for setup instructions.\n",
       "</p>\n",
       "<p>\n",
       "  If you're reading this message in another frontend (for example, a static\n",
       "  rendering on GitHub or <a href=\"https://nbviewer.jupyter.org/\">NBViewer</a>),\n",
       "  it may mean that your frontend doesn't currently support widgets.\n",
       "</p>\n"
      ],
      "text/plain": [
       "Dropdown(description='Number:', options=('select option(s)', 'reflection with respect to x axis', 'reflection with respect to y axis', 'rotation'), value='select option(s)')"
      ]
     },
     "metadata": {},
     "output_type": "display_data"
    }
   ],
   "source": [
    "import ipywidgets\n",
    "from ipywidgets import widgets\n",
    "print(\"What symmetries can you identify in the patterns\")\n",
    "\n",
    "widgets.Dropdown(\n",
    "    options=['select option(s)','reflection with respect to x axis','reflection with respect to y axis','rotation'],\n",
    "    value='select option(s)',\n",
    "    description='Number:',\n",
    "    disabled=False,\n",
    ")"
   ]
  },
  {
   "cell_type": "markdown",
   "metadata": {},
   "source": [
    "<h3>Tl'amin Baskets: Basket Shape</h3>\n",
    "\n",
    "Tl'amin Baskets come in a variety of shapes and sizes. There are circular, rectangular and square baskets. Each basket can be filled with patterns like the ones you studied above, and more. Below is a gallery of Tl'amin Baskets.\n",
    "\n",
    "<p align='center'>Circular Basket: Triangle Pattern</p>   |  <p align='center'>Rectangular Basket: Square and Triangle Patterns</p>\n",
    ":-------------------------:|:-------------------------:\n",
    "![Circular Basket](./images/20180509_150932.jpg)|![Rectangular Basket](./images/20180509_150145.jpg)|![Rectangular Basket](./images/20180509_150154.jpg)\n",
    "\n",
    "\n",
    "\n",
    "\n",
    "\n"
   ]
  },
  {
   "cell_type": "markdown",
   "metadata": {},
   "source": [
    "<h3>Circular Basket: Model</h3>\n",
    "\n",
    "Below you can find a model of the Tl'amin Circular basket. \n",
    "\n",
    "Press the \"Run Interact\" button to render a 2D and a 3D model of this basket. You can also use the cursor to change parameters such as triangle height, number of triangles, number of colours within the triangle and triangle palette. Check the box if you would like to see a 3D preview and uncheck otherwise."
   ]
  },
  {
   "cell_type": "code",
   "execution_count": 7,
   "metadata": {
    "scrolled": false
   },
   "outputs": [
    {
     "data": {
      "application/vnd.jupyter.widget-view+json": {
       "model_id": "37fe86e4acdc4656bf5848c234cd1bf4",
       "version_major": 2,
       "version_minor": 0
      },
      "text/html": [
       "<p>Failed to display Jupyter Widget of type <code>interactive</code>.</p>\n",
       "<p>\n",
       "  If you're reading this message in the Jupyter Notebook or JupyterLab Notebook, it may mean\n",
       "  that the widgets JavaScript is still loading. If this message persists, it\n",
       "  likely means that the widgets JavaScript library is either not installed or\n",
       "  not enabled. See the <a href=\"https://ipywidgets.readthedocs.io/en/stable/user_install.html\">Jupyter\n",
       "  Widgets Documentation</a> for setup instructions.\n",
       "</p>\n",
       "<p>\n",
       "  If you're reading this message in another frontend (for example, a static\n",
       "  rendering on GitHub or <a href=\"https://nbviewer.jupyter.org/\">NBViewer</a>),\n",
       "  it may mean that your frontend doesn't currently support widgets.\n",
       "</p>\n"
      ],
      "text/plain": [
       "interactive(children=(IntSlider(value=5, description='Triangle Height', max=10, min=3, style=SliderStyle(description_width='initial')), IntSlider(value=3, description='Number of Colors', max=6, min=1, style=SliderStyle(description_width='initial')), IntSlider(value=4, description='Number of Triangles', max=6, min=1, style=SliderStyle(description_width='initial')), Dropdown(description='Palette:', options={'Original': ['#000000', 'wheat', 'maroon', 'gold', 'goldenrod', 'khaki', '#d5a967'], 'Seafoam Green': ['#000000', '#006d2c', '#2ca25f', '#66c2a4', '#b2e2e2', '#edf8fb', '#d5a967'], 'Magenta to blue': ['#000000', '#810f7c', '#8856a7', '#8c96c6', '#b3cde3', '#edf8fb', '#d5a967'], 'Ocean Breeze': ['#000000', '#0868ac', '#43a2ca', '#7bccc4', '#bae4bc', '#f0f9e8', '#d5a967'], 'Fiery Red': ['#000000', '#b30000', '#e34a33', '#fc8d59', '#fdcc8a', '#fef0d9', '#d5a967'], 'Fiery Red 2': ['#000000', '#bd0026', '#f03b20', '#fd8d3c', '#fecc5c', '#ffffb2', '#d5a967'], 'Blue': ['#000000', '#045a8d', '#2b8cbe', '#74a9cf', '#bdc9e1', '#f1eef6', '#d5a967'], 'Turquoise': ['#000000', '#016c59', '#1c9099', '#67a9cf', '#bdc9e1', '#f6eff7', '#d5a967'], 'Red to Purple': ['#000000', '#980043', '#dd1c77', '#df65b0', '#d7b5d8', '#f1eef6', '#d5a967'], 'Purple to Pink': ['#000000', '#7a0177', '#c51b8a', '#f768a1', '#fbb4b9', '#feebe2', '#d5a967'], 'Burnt Orange': ['#000000', '#993404', '#d95f0e', '#fe9929', '#fed98e', '#ffffd4', '#d5a967'], 'Forest Green': ['#000000', '#006d2c', '#31a354', '#74c476', '#bae4b3', '#edf8e9', '#d5a967'], 'Bold Lavender': ['#000000', '#54278f', '#756bb1', '#9e9ac8', '#cbc9e2', '#f2f0f7', '#d5a967'], 'Valentine Red': ['#000000', '#a50f15', '#de2d26', '#fb6a4a', '#fcae91', '#fee5d9', '#d5a967']}, value=['#000000', 'wheat', 'maroon', 'gold', 'goldenrod', 'khaki', '#d5a967']), Checkbox(value=False, description='Show 3D Preview'), Button(description='Run Interact', style=ButtonStyle()), Output()), _dom_classes=('widget-interact',))"
      ]
     },
     "metadata": {},
     "output_type": "display_data"
    }
   ],
   "source": [
    "%run -i ./python_Scripts/Circular_2D.py\n",
    "\n",
    "\n",
    "store_var = interact_manual(circ_basket2D_tri,\n",
    "                    tri_height=widgets.IntSlider(value=5,\n",
    "                             min = 3,\n",
    "                            max = 10,\n",
    "                            step=1,\n",
    "                            description = 'Triangle Height',\n",
    "                            style=style,\n",
    "                            readout_format='d'),\n",
    "        num_color=widgets.IntSlider(value=3,\n",
    "                             min = 1,\n",
    "                            max = 6,\n",
    "                            step=1,\n",
    "                            description = 'Number of Colors',\n",
    "                            readout=True,\n",
    "                            style=style,\n",
    "                            readout_format='d'),\n",
    "        num_tri = widgets.IntSlider(value=4,\n",
    "                             min = 1,\n",
    "                            max = 6,\n",
    "                            step=1,\n",
    "                            description = 'Number of Triangles',\n",
    "                            readout=True,\n",
    "                            style=style,\n",
    "                            readout_format='d'),\n",
    "                            \n",
    "        palette = widgets.Dropdown(\n",
    "            options={'Original':ori_p,'Seafoam Green' : pal_a, 'Magenta to blue' : pal_b, 'Ocean Breeze' : pal_c,\n",
    "                     'Fiery Red' : pal_d, 'Fiery Red 2' : pal_j, 'Blue' : pal_e, 'Turquoise' : pal_f,\n",
    "                    'Red to Purple': pal_g, 'Purple to Pink' : pal_h, 'Burnt Orange' : pal_i, \n",
    "                     'Forest Green' : pal_k, 'Bold Lavender' : pal_l, 'Valentine Red' : pal_m},\n",
    "            value=ori_p,\n",
    "            description='Palette:'\n",
    "        ),\n",
    "        option = widgets.Checkbox(\n",
    "    value=False,\n",
    "    description='Show 3D Preview',\n",
    "    disabled=False\n",
    ")\n",
    ")\n",
    "\n",
    "\n"
   ]
  },
  {
   "cell_type": "markdown",
   "metadata": {},
   "source": [
    "<button id=\"mybutton\">\n",
    "    <a href=\"#Home\">Back to Top</a>\n",
    "</button>"
   ]
  },
  {
   "cell_type": "markdown",
   "metadata": {},
   "source": [
    "<h3>Rectangular Basket: Model</h3>\n",
    "\n",
    "Below you can find a model of the Tl'amin Rectangular basket. \n",
    "\n",
    "Press the \"Run Interact\" button to render a 2D and a 3D model of this basket. You can also use the cursor to change parameters such as triangle height, number of triangles, number of colours within the triangle and triangle palette. Check the box if you would like to see a 3D preview and uncheck otherwise."
   ]
  },
  {
   "cell_type": "code",
   "execution_count": 8,
   "metadata": {},
   "outputs": [
    {
     "data": {
      "application/vnd.jupyter.widget-view+json": {
       "model_id": "a55c861ad6c343f4aa3bbfe2d80364d4",
       "version_major": 2,
       "version_minor": 0
      },
      "text/html": [
       "<p>Failed to display Jupyter Widget of type <code>interactive</code>.</p>\n",
       "<p>\n",
       "  If you're reading this message in the Jupyter Notebook or JupyterLab Notebook, it may mean\n",
       "  that the widgets JavaScript is still loading. If this message persists, it\n",
       "  likely means that the widgets JavaScript library is either not installed or\n",
       "  not enabled. See the <a href=\"https://ipywidgets.readthedocs.io/en/stable/user_install.html\">Jupyter\n",
       "  Widgets Documentation</a> for setup instructions.\n",
       "</p>\n",
       "<p>\n",
       "  If you're reading this message in another frontend (for example, a static\n",
       "  rendering on GitHub or <a href=\"https://nbviewer.jupyter.org/\">NBViewer</a>),\n",
       "  it may mean that your frontend doesn't currently support widgets.\n",
       "</p>\n"
      ],
      "text/plain": [
       "interactive(children=(IntSlider(value=2, description='Height 1', max=5, min=1, style=SliderStyle(description_width='initial')), IntSlider(value=5, description='Height 2', max=7, min=1, style=SliderStyle(description_width='initial')), IntSlider(value=4, description='Separation', max=10, min=1, style=SliderStyle(description_width='initial')), Dropdown(description='Palette:', options={'Original': ['#000000', 'wheat', 'maroon', 'gold', 'goldenrod', 'khaki', '#d5a967'], 'Seafoam Green': ['#000000', 'wheat', '#006d2c', '#2ca25f', '#66c2a4', '#b2e2e2', '#edf8fb', '#d5a967'], 'Magenta to blue': ['#000000', 'wheat', '#810f7c', '#8856a7', '#8c96c6', '#b3cde3', '#edf8fb', '#d5a967'], 'Ocean Breeze': ['#000000', 'wheat', '#0868ac', '#43a2ca', '#7bccc4', '#bae4bc', '#f0f9e8', '#d5a967'], 'Fiery Red': ['#000000', 'wheat', '#b30000', '#e34a33', '#fc8d59', '#fdcc8a', '#fef0d9', '#d5a967'], 'Fiery Red 2': ['#000000', 'wheat', '#bd0026', '#f03b20', '#fd8d3c', '#fecc5c', '#ffffb2', '#d5a967'], 'Blue': ['#000000', 'wheat', '#045a8d', '#2b8cbe', '#74a9cf', '#bdc9e1', '#f1eef6', '#d5a967'], 'Turquoise': ['#000000', 'wheat', '#016c59', '#1c9099', '#67a9cf', '#bdc9e1', '#f6eff7', '#d5a967'], 'Red to Purple': ['#000000', 'wheat', '#980043', '#dd1c77', '#df65b0', '#d7b5d8', '#f1eef6', '#d5a967'], 'Purple to Pink': ['#000000', 'wheat', '#7a0177', '#c51b8a', '#f768a1', '#fbb4b9', '#feebe2', '#d5a967'], 'Burnt Orange': ['#000000', 'wheat', '#993404', '#d95f0e', '#fe9929', '#fed98e', '#ffffd4', '#d5a967'], 'Forest Green': ['#000000', 'wheat', '#006d2c', '#31a354', '#74c476', '#bae4b3', '#edf8e9', '#d5a967'], 'Bold Lavender': ['#000000', 'wheat', '#54278f', '#756bb1', '#9e9ac8', '#cbc9e2', '#f2f0f7', '#d5a967'], 'Valentine Red': ['#000000', 'wheat', '#a50f15', '#de2d26', '#fb6a4a', '#fcae91', '#fee5d9', '#d5a967']}, value=['#000000', 'wheat', 'maroon', 'gold', 'goldenrod', 'khaki', '#d5a967']), Checkbox(value=False, description='Show 3D Preview'), Button(description='Run Interact', style=ButtonStyle()), Output()), _dom_classes=('widget-interact',))"
      ]
     },
     "metadata": {},
     "output_type": "display_data"
    }
   ],
   "source": [
    "%run -i ./python_Scripts/Rectangular_Front_2D.py\n",
    "  \n",
    "style = {'description_width': 'initial'}\n",
    "store_var_sq = interact_manual(rect_basket2D_rec,\n",
    "                    height1=widgets.IntSlider(value=2,\n",
    "                             min = 1,\n",
    "                            max = 5,\n",
    "                            step=1,\n",
    "                            description = 'Height 1',\n",
    "                            style=style,\n",
    "                            readout_format='d'),\n",
    "        height2=widgets.IntSlider(value=5,\n",
    "                             min = 1,\n",
    "                            max = 7,\n",
    "                            step=1,\n",
    "                            description = 'Height 2',\n",
    "                            readout=True,\n",
    "                            style=style,\n",
    "                            readout_format='d'),\n",
    "        space_size = widgets.IntSlider(value=4,\n",
    "                             min = 1,\n",
    "                            max = 10,\n",
    "                            step=1,\n",
    "                            description = 'Separation',\n",
    "                            readout=True,\n",
    "                            style=style,\n",
    "                            readout_format='d'),\n",
    "                            \n",
    "        palette = widgets.Dropdown(\n",
    "            options={'Original':ori_p,'Seafoam Green' : pal_a_s, 'Magenta to blue' : pal_b_s, 'Ocean Breeze' : pal_c_s,\n",
    "                     'Fiery Red' : pal_d_s, 'Fiery Red 2' : pal_j_s, 'Blue' : pal_e_s, 'Turquoise' : pal_f_s,\n",
    "                    'Red to Purple': pal_g_s, 'Purple to Pink' : pal_h_s, 'Burnt Orange' : pal_i_s, \n",
    "                     'Forest Green' : pal_k_s, 'Bold Lavender' : pal_l_s, 'Valentine Red' : pal_m_s},\n",
    "            value=ori_p,\n",
    "            description='Palette:'\n",
    "        ),\n",
    "                               option = widgets.Checkbox(\n",
    "    value=False,\n",
    "    description='Show 3D Preview',\n",
    "    disabled=False\n",
    ")\n",
    ")"
   ]
  },
  {
   "cell_type": "markdown",
   "metadata": {},
   "source": [
    "<button id=\"mybutton\">\n",
    "    <a href=\"#Home\">Back to Top</a>\n",
    "</button>"
   ]
  },
  {
   "cell_type": "code",
   "execution_count": 9,
   "metadata": {
    "scrolled": false
   },
   "outputs": [
    {
     "data": {
      "application/vnd.jupyter.widget-view+json": {
       "model_id": "993257f0fce94da7962015f2f0dc5756",
       "version_major": 2,
       "version_minor": 0
      },
      "text/html": [
       "<p>Failed to display Jupyter Widget of type <code>interactive</code>.</p>\n",
       "<p>\n",
       "  If you're reading this message in the Jupyter Notebook or JupyterLab Notebook, it may mean\n",
       "  that the widgets JavaScript is still loading. If this message persists, it\n",
       "  likely means that the widgets JavaScript library is either not installed or\n",
       "  not enabled. See the <a href=\"https://ipywidgets.readthedocs.io/en/stable/user_install.html\">Jupyter\n",
       "  Widgets Documentation</a> for setup instructions.\n",
       "</p>\n",
       "<p>\n",
       "  If you're reading this message in another frontend (for example, a static\n",
       "  rendering on GitHub or <a href=\"https://nbviewer.jupyter.org/\">NBViewer</a>),\n",
       "  it may mean that your frontend doesn't currently support widgets.\n",
       "</p>\n"
      ],
      "text/plain": [
       "interactive(children=(IntSlider(value=12, description='Basket Height', max=20, min=3, style=SliderStyle(description_width='initial')), IntSlider(value=10, description='Basket Width', max=20, min=3, style=SliderStyle(description_width='initial')), IntSlider(value=4, description='Triangle Height', max=10, min=3, style=SliderStyle(description_width='initial')), IntSlider(value=3, description='Number of Triangles', max=6, min=1, style=SliderStyle(description_width='initial')), IntSlider(value=3, description='Number of Colors', max=6, min=1, style=SliderStyle(description_width='initial')), Dropdown(description='Palette:', options={'Original': ['#000000', 'wheat', 'maroon', 'gold', 'goldenrod', 'khaki', '#d5a967'], 'Seafoam Green': ['#000000', '#006d2c', '#2ca25f', '#66c2a4', '#b2e2e2', '#edf8fb', '#d5a967'], 'Magenta to blue': ['#000000', '#810f7c', '#8856a7', '#8c96c6', '#b3cde3', '#edf8fb', '#d5a967'], 'Ocean Breeze': ['#000000', '#0868ac', '#43a2ca', '#7bccc4', '#bae4bc', '#f0f9e8', '#d5a967'], 'Fiery Red': ['#000000', '#b30000', '#e34a33', '#fc8d59', '#fdcc8a', '#fef0d9', '#d5a967'], 'Fiery Red 2': ['#000000', '#bd0026', '#f03b20', '#fd8d3c', '#fecc5c', '#ffffb2', '#d5a967'], 'Blue': ['#000000', '#045a8d', '#2b8cbe', '#74a9cf', '#bdc9e1', '#f1eef6', '#d5a967'], 'Turquoise': ['#000000', '#016c59', '#1c9099', '#67a9cf', '#bdc9e1', '#f6eff7', '#d5a967'], 'Red to Purple': ['#000000', '#980043', '#dd1c77', '#df65b0', '#d7b5d8', '#f1eef6', '#d5a967'], 'Purple to Pink': ['#000000', '#7a0177', '#c51b8a', '#f768a1', '#fbb4b9', '#feebe2', '#d5a967'], 'Burnt Orange': ['#000000', '#993404', '#d95f0e', '#fe9929', '#fed98e', '#ffffd4', '#d5a967'], 'Forest Green': ['#000000', '#006d2c', '#31a354', '#74c476', '#bae4b3', '#edf8e9', '#d5a967'], 'Bold Lavender': ['#000000', '#54278f', '#756bb1', '#9e9ac8', '#cbc9e2', '#f2f0f7', '#d5a967'], 'Valentine Red': ['#000000', '#a50f15', '#de2d26', '#fb6a4a', '#fcae91', '#fee5d9', '#d5a967']}, value=['#000000', 'wheat', 'maroon', 'gold', 'goldenrod', 'khaki', '#d5a967']), Checkbox(value=False, description='Show 3D Preview'), Button(description='Run Interact', style=ButtonStyle()), Output()), _dom_classes=('widget-interact',))"
      ]
     },
     "metadata": {},
     "output_type": "display_data"
    }
   ],
   "source": [
    "%run -i ./python_Scripts/Rectangular_side_2D.py\n",
    "\n",
    "\n",
    "style = {'description_width': 'initial'}\n",
    "store_var_tr = interact_manual(vert_tri,\n",
    "                    tri_h=widgets.IntSlider(value=4,\n",
    "                             min = 3,\n",
    "                            max = 10,\n",
    "                            step=1,\n",
    "                            description = 'Triangle Height',\n",
    "                            style=style,\n",
    "                            readout_format='d'),\n",
    "        basket_w = widgets.IntSlider(value=10,\n",
    "                             min = 3,\n",
    "                            max = 20,\n",
    "                            step=1,\n",
    "                            description = 'Basket Width',\n",
    "                            style=style,\n",
    "                            readout_format='d'),\n",
    "        basket_h = widgets.IntSlider(value=12,\n",
    "                             min = 3,\n",
    "                            max = 20,\n",
    "                            step=1,\n",
    "                            description = 'Basket Height',\n",
    "                            style=style,\n",
    "                            readout_format='d'),\n",
    "        num_color=widgets.IntSlider(value=3,\n",
    "                             min = 1,\n",
    "                            max = 6,\n",
    "                            step=1,\n",
    "                            description = 'Number of Colors',\n",
    "                            readout=True,\n",
    "                            style=style,\n",
    "                            readout_format='d'),\n",
    "        num_tri = widgets.IntSlider(value=3,\n",
    "                             min = 1,\n",
    "                            max = 6,\n",
    "                            step=1,\n",
    "                            description = 'Number of Triangles',\n",
    "                            readout=True,\n",
    "                            style=style,\n",
    "                            readout_format='d'),\n",
    "                            \n",
    "        palette = widgets.Dropdown(\n",
    "            options={'Original':ori_p,'Seafoam Green' : pal_a, 'Magenta to blue' : pal_b, 'Ocean Breeze' : pal_c,\n",
    "                     'Fiery Red' : pal_d, 'Fiery Red 2' : pal_j, 'Blue' : pal_e, 'Turquoise' : pal_f,\n",
    "                    'Red to Purple': pal_g, 'Purple to Pink' : pal_h, 'Burnt Orange' : pal_i, \n",
    "                     'Forest Green' : pal_k, 'Bold Lavender' : pal_l, 'Valentine Red' : pal_m},\n",
    "            value=ori_p,\n",
    "            description='Palette:'\n",
    "        ),\n",
    "                               option = widgets.Checkbox(\n",
    "    value=False,\n",
    "    description='Show 3D Preview',\n",
    "    disabled=False\n",
    ")\n",
    ")"
   ]
  },
  {
   "cell_type": "markdown",
   "metadata": {},
   "source": [
    "<button id=\"mybutton\">\n",
    "    <a href=\"#Home\">Back to Top</a>\n",
    "</button>"
   ]
  },
  {
   "cell_type": "markdown",
   "metadata": {},
   "source": [
    "<h3>Exercise: Model your Own Basket</h3>\n",
    "\n",
    "Here you will have an opportunity to model your own basket and to preview it two and three dimensions. You will begin by choosing a basket shape: circular or rectangular. You then have an option to take an existing pattern and modify it or to create a new pattern from scratch.\n",
    "\n",
    "<div id=Selection></div>\n",
    "\n",
    "Click the buttons below to choose a shape:\n",
    "\n",
    "<div>\n",
    "<button id=\"mybutton\">\n",
    "    <a href=\"#CircularMod\">Circular Basket: Modify Existing Pattern</a>\n",
    "</button>\n",
    "</div>\n",
    "\n",
    "<div>   \n",
    "<button id=\"mybutton\">\n",
    "    <a href=\"#CircularCreate\">Circular Basket: Create New Pattern</a>\n",
    "</button>\n",
    "</div>\n",
    "\n",
    "<div>\n",
    "<button id=\"mybutton\">\n",
    "    <a href=\"#RectMod\">Rectangular Basket: Modify Existing Pattern</a>\n",
    "</button>\n",
    "\n",
    "\n",
    "<div>\n",
    "<button id=\"mybutton\">\n",
    "    <a href=\"#RectCreate\">Rectangular Basket: Create New Pattern</a>\n",
    "</button>\n",
    "\n"
   ]
  },
  {
   "cell_type": "markdown",
   "metadata": {},
   "source": [
    "<div id=CircularMod></div>\n",
    "<h3>Circular Basket Model</h3>\n",
    "<h4 >Modify an Existing Pattern</h4>\n",
    "\n",
    "Use the widgets below to set inital triangle height, number of colors, number of triangles and a basic colour palette. \n",
    "\n",
    "To modify the pattern, simply click on the colour palette to choose a colour, and click on the rectangles within the grid you would like to modify. "
   ]
  },
  {
   "cell_type": "code",
   "execution_count": 10,
   "metadata": {},
   "outputs": [
    {
     "data": {
      "application/vnd.jupyter.widget-view+json": {
       "model_id": "3383835f7bfa40258fe9d23d47adc368",
       "version_major": 2,
       "version_minor": 0
      },
      "text/html": [
       "<p>Failed to display Jupyter Widget of type <code>interactive</code>.</p>\n",
       "<p>\n",
       "  If you're reading this message in the Jupyter Notebook or JupyterLab Notebook, it may mean\n",
       "  that the widgets JavaScript is still loading. If this message persists, it\n",
       "  likely means that the widgets JavaScript library is either not installed or\n",
       "  not enabled. See the <a href=\"https://ipywidgets.readthedocs.io/en/stable/user_install.html\">Jupyter\n",
       "  Widgets Documentation</a> for setup instructions.\n",
       "</p>\n",
       "<p>\n",
       "  If you're reading this message in another frontend (for example, a static\n",
       "  rendering on GitHub or <a href=\"https://nbviewer.jupyter.org/\">NBViewer</a>),\n",
       "  it may mean that your frontend doesn't currently support widgets.\n",
       "</p>\n"
      ],
      "text/plain": [
       "interactive(children=(IntSlider(value=8, description='Triangle Height', max=10, min=3, style=SliderStyle(description_width='initial')), IntSlider(value=3, description='Number of Colors', max=6, min=1, style=SliderStyle(description_width='initial')), IntSlider(value=2, description='Number of Triangles', max=6, min=1, style=SliderStyle(description_width='initial')), Dropdown(description='Palette:', options={'Original': ['#000000', 'wheat', 'maroon', 'gold', 'goldenrod', 'khaki', '#d5a967'], 'Seafoam Green': ['#000000', '#006d2c', '#2ca25f', '#66c2a4', '#b2e2e2', '#edf8fb', '#d5a967'], 'Magenta to blue': ['#000000', '#810f7c', '#8856a7', '#8c96c6', '#b3cde3', '#edf8fb', '#d5a967'], 'Ocean Breeze': ['#000000', '#0868ac', '#43a2ca', '#7bccc4', '#bae4bc', '#f0f9e8', '#d5a967'], 'Fiery Red': ['#000000', '#b30000', '#e34a33', '#fc8d59', '#fdcc8a', '#fef0d9', '#d5a967'], 'Fiery Red 2': ['#000000', '#bd0026', '#f03b20', '#fd8d3c', '#fecc5c', '#ffffb2', '#d5a967'], 'Blue': ['#000000', '#045a8d', '#2b8cbe', '#74a9cf', '#bdc9e1', '#f1eef6', '#d5a967'], 'Turquoise': ['#000000', '#016c59', '#1c9099', '#67a9cf', '#bdc9e1', '#f6eff7', '#d5a967'], 'Red to Purple': ['#000000', '#980043', '#dd1c77', '#df65b0', '#d7b5d8', '#f1eef6', '#d5a967'], 'Purple to Pink': ['#000000', '#7a0177', '#c51b8a', '#f768a1', '#fbb4b9', '#feebe2', '#d5a967'], 'Burnt Orange': ['#000000', '#993404', '#d95f0e', '#fe9929', '#fed98e', '#ffffd4', '#d5a967'], 'Forest Green': ['#000000', '#006d2c', '#31a354', '#74c476', '#bae4b3', '#edf8e9', '#d5a967'], 'Bold Lavender': ['#000000', '#54278f', '#756bb1', '#9e9ac8', '#cbc9e2', '#f2f0f7', '#d5a967'], 'Valentine Red': ['#000000', '#a50f15', '#de2d26', '#fb6a4a', '#fcae91', '#fee5d9', '#d5a967']}, value=['#000000', 'wheat', 'maroon', 'gold', 'goldenrod', 'khaki', '#d5a967']), Button(description='Run Interact', style=ButtonStyle()), Output()), _dom_classes=('widget-interact',))"
      ]
     },
     "metadata": {},
     "output_type": "display_data"
    }
   ],
   "source": [
    "%run -i ./python_Scripts/Modify.py\n",
    "\n",
    "style = {'description_width': 'initial'}\n",
    "store_var = interact_manual(circ_basket2D_tri,\n",
    "                    tri_height=widgets.IntSlider(value=8,\n",
    "                             min = 3,\n",
    "                            max = 10,\n",
    "                            step=1,\n",
    "                            description = 'Triangle Height',\n",
    "                            style=style,\n",
    "                            readout_format='d'),\n",
    "        num_color=widgets.IntSlider(value=3,\n",
    "                             min = 1,\n",
    "                            max = 6,\n",
    "                            step=1,\n",
    "                            description = 'Number of Colors',\n",
    "                            readout=True,\n",
    "                            style=style,\n",
    "                            readout_format='d'),\n",
    "        num_tri = widgets.IntSlider(value=2,\n",
    "                             min = 1,\n",
    "                            max = 6,\n",
    "                            step=1,\n",
    "                            description = 'Number of Triangles',\n",
    "                            readout=True,\n",
    "                            style=style,\n",
    "                            readout_format='d'),\n",
    "                           palette = widgets.Dropdown(\n",
    "    options={'Original':ori_p,'Seafoam Green' : pal_a, 'Magenta to blue' : pal_b, 'Ocean Breeze' : pal_c,\n",
    "             'Fiery Red' : pal_d, 'Fiery Red 2' : pal_j, 'Blue' : pal_e, 'Turquoise' : pal_f,\n",
    "            'Red to Purple': pal_g, 'Purple to Pink' : pal_h, 'Burnt Orange' : pal_i, \n",
    "             'Forest Green' : pal_k, 'Bold Lavender' : pal_l, 'Valentine Red' : pal_m},\n",
    "    value=ori_p,\n",
    "    description='Palette:',\n",
    "    disabled=False,\n",
    "))                        "
   ]
  },
  {
   "cell_type": "markdown",
   "metadata": {},
   "source": [
    "<button id=\"mybutton\">\n",
    "    <a href=\"#Home\">Back to Top</a>\n",
    "</button>\n",
    "\n",
    "<button id=\"mybutton\">\n",
    "    <a href=\"#Selection\">Back to Selection Menu</a>\n",
    "</button>"
   ]
  },
  {
   "cell_type": "markdown",
   "metadata": {},
   "source": [
    "<div id=CircularMod></div>\n",
    "<h3>Circular Basket Model</h3>\n",
    "<h4 >Create a New Pattern</h4>\n",
    "\n",
    "Use the widgets below to set inital triangle height, number of colors, number of triangles and a basic colour palette. \n",
    "\n",
    "To create a pattern, simply click on the colour palette to choose a colour, and click on the rectangles within the grid you would like to modify. "
   ]
  },
  {
   "cell_type": "code",
   "execution_count": 11,
   "metadata": {},
   "outputs": [
    {
     "data": {
      "application/vnd.jupyter.widget-view+json": {
       "model_id": "d03020bceb684b8b9dfcbfa3fca24e2d",
       "version_major": 2,
       "version_minor": 0
      },
      "text/html": [
       "<p>Failed to display Jupyter Widget of type <code>interactive</code>.</p>\n",
       "<p>\n",
       "  If you're reading this message in the Jupyter Notebook or JupyterLab Notebook, it may mean\n",
       "  that the widgets JavaScript is still loading. If this message persists, it\n",
       "  likely means that the widgets JavaScript library is either not installed or\n",
       "  not enabled. See the <a href=\"https://ipywidgets.readthedocs.io/en/stable/user_install.html\">Jupyter\n",
       "  Widgets Documentation</a> for setup instructions.\n",
       "</p>\n",
       "<p>\n",
       "  If you're reading this message in another frontend (for example, a static\n",
       "  rendering on GitHub or <a href=\"https://nbviewer.jupyter.org/\">NBViewer</a>),\n",
       "  it may mean that your frontend doesn't currently support widgets.\n",
       "</p>\n"
      ],
      "text/plain": [
       "interactive(children=(IntSlider(value=16, continuous_update=False, description='Basket Height:', max=30, min=5, style=SliderStyle(description_width='initial')), IntSlider(value=20, description='Basket Width', max=20, min=5, style=SliderStyle(description_width='initial')), Dropdown(description='Palette:', options={'Original': ['#000000', 'wheat', 'maroon', 'gold', 'goldenrod', 'khaki', '#d5a967'], 'Seafoam Green': ['#000000', '#006d2c', '#2ca25f', '#66c2a4', '#b2e2e2', '#edf8fb', '#d5a967'], 'Magenta to blue': ['#000000', '#810f7c', '#8856a7', '#8c96c6', '#b3cde3', '#edf8fb', '#d5a967'], 'Ocean Breeze': ['#000000', '#0868ac', '#43a2ca', '#7bccc4', '#bae4bc', '#f0f9e8', '#d5a967'], 'Fiery Red': ['#000000', '#b30000', '#e34a33', '#fc8d59', '#fdcc8a', '#fef0d9', '#d5a967'], 'Fiery Red 2': ['#000000', '#bd0026', '#f03b20', '#fd8d3c', '#fecc5c', '#ffffb2', '#d5a967'], 'Blue': ['#000000', '#045a8d', '#2b8cbe', '#74a9cf', '#bdc9e1', '#f1eef6', '#d5a967'], 'Turquoise': ['#000000', '#016c59', '#1c9099', '#67a9cf', '#bdc9e1', '#f6eff7', '#d5a967'], 'Red to Purple': ['#000000', '#980043', '#dd1c77', '#df65b0', '#d7b5d8', '#f1eef6', '#d5a967'], 'Purple to Pink': ['#000000', '#7a0177', '#c51b8a', '#f768a1', '#fbb4b9', '#feebe2', '#d5a967'], 'Burnt Orange': ['#000000', '#993404', '#d95f0e', '#fe9929', '#fed98e', '#ffffd4', '#d5a967'], 'Forest Green': ['#000000', '#006d2c', '#31a354', '#74c476', '#bae4b3', '#edf8e9', '#d5a967'], 'Bold Lavender': ['#000000', '#54278f', '#756bb1', '#9e9ac8', '#cbc9e2', '#f2f0f7', '#d5a967'], 'Valentine Red': ['#000000', '#a50f15', '#de2d26', '#fb6a4a', '#fcae91', '#fee5d9', '#d5a967']}, value=['#000000', 'wheat', 'maroon', 'gold', 'goldenrod', 'khaki', '#d5a967']), Button(description='Run Interact', style=ButtonStyle()), Output()), _dom_classes=('widget-interact',))"
      ]
     },
     "metadata": {},
     "output_type": "display_data"
    }
   ],
   "source": [
    "%run -i ./python_Scripts/create.py\n",
    "\n",
    "\n",
    "import string\n",
    "import seaborn as sns\n",
    "from ipywidgets import interact, interact_manual\n",
    "\n",
    "\n",
    "    \n",
    "    \n",
    "style = {'description_width': 'initial'}\n",
    "w = interact_manual(plot_empty,\n",
    "                    bheight=widgets.IntSlider(value=16,\n",
    "                            min=5,\n",
    "                            max=30,\n",
    "                            step=1,\n",
    "                            description='Basket Height:',\n",
    "                            disabled=False,\n",
    "                            continuous_update=False,\n",
    "                            orientation='horizontal',\n",
    "                            readout=True,\n",
    "                            style=style,\n",
    "                            readout_format='d'),\n",
    "    bwidth=widgets.IntSlider(value=2+4*8,\n",
    "                            min = 5,\n",
    "                            max = 20,\n",
    "                            step=1,\n",
    "                            description = 'Basket Width',\n",
    "                            continuos_update=False,\n",
    "                            orientation='horizontal',\n",
    "                            readout=True,\n",
    "                            style=style,\n",
    "                            readout_format='d'),\n",
    "\n",
    "    palette = widgets.Dropdown(\n",
    "    options={'Original':ori_p,'Seafoam Green' : pal_a, 'Magenta to blue' : pal_b, 'Ocean Breeze' : pal_c,\n",
    "             'Fiery Red' : pal_d, 'Fiery Red 2' : pal_j, 'Blue' : pal_e, 'Turquoise' : pal_f,\n",
    "            'Red to Purple': pal_g, 'Purple to Pink' : pal_h, 'Burnt Orange' : pal_i, \n",
    "             'Forest Green' : pal_k, 'Bold Lavender' : pal_l, 'Valentine Red' : pal_m},\n",
    "    value=ori_p,\n",
    "    description='Palette:',\n",
    "    disabled=False,\n",
    "))"
   ]
  },
  {
   "cell_type": "markdown",
   "metadata": {},
   "source": [
    "<button id=\"mybutton\">\n",
    "    <a href=\"#Home\">Back to Top</a>\n",
    "</button>\n",
    "\n",
    "<button id=\"mybutton\">\n",
    "    <a href=\"#Selection\">Back to Selection Menu</a>\n",
    "</button>"
   ]
  },
  {
   "cell_type": "markdown",
   "metadata": {},
   "source": [
    "<div id=RectMod></div>\n",
    "<h3>Rectangular Basket Model</h3>\n",
    "<h4 >Modify an Existing Pattern</h4>\n",
    "\n",
    "Use the widgets below to set inital triangle height, number of colors, number of triangles and a basic colour palette. \n",
    "\n",
    "To modify the pattern, simply click on the colour palette to choose a colour, and click on the rectangles within the grid you would like to modify. "
   ]
  },
  {
   "cell_type": "code",
   "execution_count": 12,
   "metadata": {},
   "outputs": [
    {
     "data": {
      "application/vnd.jupyter.widget-view+json": {
       "model_id": "2bd9b3c2daa64112bfcb9763f3472621",
       "version_major": 2,
       "version_minor": 0
      },
      "text/html": [
       "<p>Failed to display Jupyter Widget of type <code>interactive</code>.</p>\n",
       "<p>\n",
       "  If you're reading this message in the Jupyter Notebook or JupyterLab Notebook, it may mean\n",
       "  that the widgets JavaScript is still loading. If this message persists, it\n",
       "  likely means that the widgets JavaScript library is either not installed or\n",
       "  not enabled. See the <a href=\"https://ipywidgets.readthedocs.io/en/stable/user_install.html\">Jupyter\n",
       "  Widgets Documentation</a> for setup instructions.\n",
       "</p>\n",
       "<p>\n",
       "  If you're reading this message in another frontend (for example, a static\n",
       "  rendering on GitHub or <a href=\"https://nbviewer.jupyter.org/\">NBViewer</a>),\n",
       "  it may mean that your frontend doesn't currently support widgets.\n",
       "</p>\n"
      ],
      "text/plain": [
       "interactive(children=(IntSlider(value=8, description='Triangle Height', max=10, min=3, style=SliderStyle(description_width='initial')), IntSlider(value=3, description='Number of Colors', max=6, min=1, style=SliderStyle(description_width='initial')), IntSlider(value=2, description='Number of Triangles', max=6, min=1, style=SliderStyle(description_width='initial')), Dropdown(description='Palette:', options={'Original': ['#000000', 'wheat', 'maroon', 'gold', 'goldenrod', 'khaki', '#d5a967'], 'Seafoam Green': ['#000000', '#006d2c', '#2ca25f', '#66c2a4', '#b2e2e2', '#edf8fb', '#d5a967'], 'Magenta to blue': ['#000000', '#810f7c', '#8856a7', '#8c96c6', '#b3cde3', '#edf8fb', '#d5a967'], 'Ocean Breeze': ['#000000', '#0868ac', '#43a2ca', '#7bccc4', '#bae4bc', '#f0f9e8', '#d5a967'], 'Fiery Red': ['#000000', '#b30000', '#e34a33', '#fc8d59', '#fdcc8a', '#fef0d9', '#d5a967'], 'Fiery Red 2': ['#000000', '#bd0026', '#f03b20', '#fd8d3c', '#fecc5c', '#ffffb2', '#d5a967'], 'Blue': ['#000000', '#045a8d', '#2b8cbe', '#74a9cf', '#bdc9e1', '#f1eef6', '#d5a967'], 'Turquoise': ['#000000', '#016c59', '#1c9099', '#67a9cf', '#bdc9e1', '#f6eff7', '#d5a967'], 'Red to Purple': ['#000000', '#980043', '#dd1c77', '#df65b0', '#d7b5d8', '#f1eef6', '#d5a967'], 'Purple to Pink': ['#000000', '#7a0177', '#c51b8a', '#f768a1', '#fbb4b9', '#feebe2', '#d5a967'], 'Burnt Orange': ['#000000', '#993404', '#d95f0e', '#fe9929', '#fed98e', '#ffffd4', '#d5a967'], 'Forest Green': ['#000000', '#006d2c', '#31a354', '#74c476', '#bae4b3', '#edf8e9', '#d5a967'], 'Bold Lavender': ['#000000', '#54278f', '#756bb1', '#9e9ac8', '#cbc9e2', '#f2f0f7', '#d5a967'], 'Valentine Red': ['#000000', '#a50f15', '#de2d26', '#fb6a4a', '#fcae91', '#fee5d9', '#d5a967']}, value=['#000000', 'wheat', 'maroon', 'gold', 'goldenrod', 'khaki', '#d5a967']), Button(description='Run Interact', style=ButtonStyle()), Output()), _dom_classes=('widget-interact',))"
      ]
     },
     "metadata": {},
     "output_type": "display_data"
    }
   ],
   "source": [
    "%run -i ./python_Scripts/Modify.py\n",
    "\n",
    "style = {'description_width': 'initial'}\n",
    "store_var = interact_manual(circ_basket2D_tri,\n",
    "                    tri_height=widgets.IntSlider(value=8,\n",
    "                             min = 3,\n",
    "                            max = 10,\n",
    "                            step=1,\n",
    "                            description = 'Triangle Height',\n",
    "                            style=style,\n",
    "                            readout_format='d'),\n",
    "        num_color=widgets.IntSlider(value=3,\n",
    "                             min = 1,\n",
    "                            max = 6,\n",
    "                            step=1,\n",
    "                            description = 'Number of Colors',\n",
    "                            readout=True,\n",
    "                            style=style,\n",
    "                            readout_format='d'),\n",
    "        num_tri = widgets.IntSlider(value=2,\n",
    "                             min = 1,\n",
    "                            max = 6,\n",
    "                            step=1,\n",
    "                            description = 'Number of Triangles',\n",
    "                            readout=True,\n",
    "                            style=style,\n",
    "                            readout_format='d'),\n",
    "                           palette = widgets.Dropdown(\n",
    "    options={'Original':ori_p,'Seafoam Green' : pal_a, 'Magenta to blue' : pal_b, 'Ocean Breeze' : pal_c,\n",
    "             'Fiery Red' : pal_d, 'Fiery Red 2' : pal_j, 'Blue' : pal_e, 'Turquoise' : pal_f,\n",
    "            'Red to Purple': pal_g, 'Purple to Pink' : pal_h, 'Burnt Orange' : pal_i, \n",
    "             'Forest Green' : pal_k, 'Bold Lavender' : pal_l, 'Valentine Red' : pal_m},\n",
    "    value=ori_p,\n",
    "    description='Palette:',\n",
    "    disabled=False,\n",
    "))                        "
   ]
  },
  {
   "cell_type": "markdown",
   "metadata": {},
   "source": [
    "<button id=\"mybutton\">\n",
    "    <a href=\"#Home\">Back to Top</a>\n",
    "</button>\n",
    "\n",
    "<button id=\"mybutton\">\n",
    "    <a href=\"#Selection\">Back to Selection Menu</a>\n",
    "</button>"
   ]
  },
  {
   "cell_type": "markdown",
   "metadata": {},
   "source": [
    "<div id=RectCreate></div>\n",
    "<h3>Rectangular Basket Model</h3>\n",
    "<h4 >Create a New Pattern</h4>\n",
    "\n",
    "Use the widgets below to set inital triangle height, number of colors, number of triangles and a basic colour palette. \n",
    "\n",
    "To create  pattern, simply click on the colour palette to choose a colour, and click on the rectangles within the grid you would like to modify. "
   ]
  },
  {
   "cell_type": "code",
   "execution_count": 13,
   "metadata": {},
   "outputs": [
    {
     "data": {
      "application/vnd.jupyter.widget-view+json": {
       "model_id": "81bbc5d4bb0a47e18fb00616b9fe70e9",
       "version_major": 2,
       "version_minor": 0
      },
      "text/html": [
       "<p>Failed to display Jupyter Widget of type <code>interactive</code>.</p>\n",
       "<p>\n",
       "  If you're reading this message in the Jupyter Notebook or JupyterLab Notebook, it may mean\n",
       "  that the widgets JavaScript is still loading. If this message persists, it\n",
       "  likely means that the widgets JavaScript library is either not installed or\n",
       "  not enabled. See the <a href=\"https://ipywidgets.readthedocs.io/en/stable/user_install.html\">Jupyter\n",
       "  Widgets Documentation</a> for setup instructions.\n",
       "</p>\n",
       "<p>\n",
       "  If you're reading this message in another frontend (for example, a static\n",
       "  rendering on GitHub or <a href=\"https://nbviewer.jupyter.org/\">NBViewer</a>),\n",
       "  it may mean that your frontend doesn't currently support widgets.\n",
       "</p>\n"
      ],
      "text/plain": [
       "interactive(children=(IntSlider(value=16, continuous_update=False, description='Basket Height:', max=30, min=5, style=SliderStyle(description_width='initial')), IntSlider(value=20, description='Basket Width', max=20, min=5, style=SliderStyle(description_width='initial')), Dropdown(description='Palette:', options={'Original': ['#000000', 'wheat', 'maroon', 'gold', 'goldenrod', 'khaki', '#d5a967'], 'Seafoam Green': ['#000000', '#006d2c', '#2ca25f', '#66c2a4', '#b2e2e2', '#edf8fb', '#d5a967'], 'Magenta to blue': ['#000000', '#810f7c', '#8856a7', '#8c96c6', '#b3cde3', '#edf8fb', '#d5a967'], 'Ocean Breeze': ['#000000', '#0868ac', '#43a2ca', '#7bccc4', '#bae4bc', '#f0f9e8', '#d5a967'], 'Fiery Red': ['#000000', '#b30000', '#e34a33', '#fc8d59', '#fdcc8a', '#fef0d9', '#d5a967'], 'Fiery Red 2': ['#000000', '#bd0026', '#f03b20', '#fd8d3c', '#fecc5c', '#ffffb2', '#d5a967'], 'Blue': ['#000000', '#045a8d', '#2b8cbe', '#74a9cf', '#bdc9e1', '#f1eef6', '#d5a967'], 'Turquoise': ['#000000', '#016c59', '#1c9099', '#67a9cf', '#bdc9e1', '#f6eff7', '#d5a967'], 'Red to Purple': ['#000000', '#980043', '#dd1c77', '#df65b0', '#d7b5d8', '#f1eef6', '#d5a967'], 'Purple to Pink': ['#000000', '#7a0177', '#c51b8a', '#f768a1', '#fbb4b9', '#feebe2', '#d5a967'], 'Burnt Orange': ['#000000', '#993404', '#d95f0e', '#fe9929', '#fed98e', '#ffffd4', '#d5a967'], 'Forest Green': ['#000000', '#006d2c', '#31a354', '#74c476', '#bae4b3', '#edf8e9', '#d5a967'], 'Bold Lavender': ['#000000', '#54278f', '#756bb1', '#9e9ac8', '#cbc9e2', '#f2f0f7', '#d5a967'], 'Valentine Red': ['#000000', '#a50f15', '#de2d26', '#fb6a4a', '#fcae91', '#fee5d9', '#d5a967']}, value=['#000000', 'wheat', 'maroon', 'gold', 'goldenrod', 'khaki', '#d5a967']), Button(description='Run Interact', style=ButtonStyle()), Output()), _dom_classes=('widget-interact',))"
      ]
     },
     "metadata": {},
     "output_type": "display_data"
    }
   ],
   "source": [
    "%run -i ./python_Scripts/create.py\n",
    "\n",
    "\n",
    "import string\n",
    "import seaborn as sns\n",
    "from ipywidgets import interact, interact_manual\n",
    "\n",
    "\n",
    "    \n",
    "    \n",
    "style = {'description_width': 'initial'}\n",
    "w = interact_manual(plot_empty,\n",
    "                    bheight=widgets.IntSlider(value=16,\n",
    "                            min=5,\n",
    "                            max=30,\n",
    "                            step=1,\n",
    "                            description='Basket Height:',\n",
    "                            disabled=False,\n",
    "                            continuous_update=False,\n",
    "                            orientation='horizontal',\n",
    "                            readout=True,\n",
    "                            style=style,\n",
    "                            readout_format='d'),\n",
    "    bwidth=widgets.IntSlider(value=2+4*8,\n",
    "                            min = 5,\n",
    "                            max = 20,\n",
    "                            step=1,\n",
    "                            description = 'Basket Width',\n",
    "                            continuos_update=False,\n",
    "                            orientation='horizontal',\n",
    "                            readout=True,\n",
    "                            style=style,\n",
    "                            readout_format='d'),\n",
    "\n",
    "    palette = widgets.Dropdown(\n",
    "    options={'Original':ori_p,'Seafoam Green' : pal_a, 'Magenta to blue' : pal_b, 'Ocean Breeze' : pal_c,\n",
    "             'Fiery Red' : pal_d, 'Fiery Red 2' : pal_j, 'Blue' : pal_e, 'Turquoise' : pal_f,\n",
    "            'Red to Purple': pal_g, 'Purple to Pink' : pal_h, 'Burnt Orange' : pal_i, \n",
    "             'Forest Green' : pal_k, 'Bold Lavender' : pal_l, 'Valentine Red' : pal_m},\n",
    "    value=ori_p,\n",
    "    description='Palette:',\n",
    "    disabled=False,\n",
    "))"
   ]
  },
  {
   "cell_type": "markdown",
   "metadata": {},
   "source": [
    "<button id=\"mybutton\">\n",
    "    <a href=\"#Home\">Back to Top</a>\n",
    "</button>\n",
    "\n",
    "<button id=\"mybutton\">\n",
    "    <a href=\"#Selection\">Back to Selection Menu</a>\n",
    "</button>"
   ]
  }
 ],
 "metadata": {
  "kernelspec": {
   "display_name": "Python 3",
   "language": "python",
   "name": "python3"
  },
  "language_info": {
   "codemirror_mode": {
    "name": "ipython",
    "version": 3
   },
   "file_extension": ".py",
   "mimetype": "text/x-python",
   "name": "python",
   "nbconvert_exporter": "python",
   "pygments_lexer": "ipython3",
   "version": "3.6.5"
  }
 },
 "nbformat": 4,
 "nbformat_minor": 2
}
